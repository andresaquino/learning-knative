{
 "cells": [
  {
   "cell_type": "code",
   "execution_count": 13,
   "metadata": {
    "scrolled": true
   },
   "outputs": [
    {
     "name": "stdout",
     "output_type": "stream",
     "text": [
      "Sending build context to Docker daemon  4.096kB\n",
      "Step 1/6 : FROM python:3.7\n",
      " ---> 42d620af35be\n",
      "Step 2/6 : ENV APP_HOME /app\n",
      " ---> Using cache\n",
      " ---> e11cee405429\n",
      "Step 3/6 : WORKDIR $APP_HOME\n",
      " ---> Using cache\n",
      " ---> d63ef6aecc0e\n",
      "Step 4/6 : COPY . .\n",
      " ---> aef5f44c5468\n",
      "Step 5/6 : RUN pip install Flask gunicorn\n",
      " ---> Running in 460371faaa41\n",
      "Collecting Flask\n",
      "  Downloading https://files.pythonhosted.org/packages/9b/93/628509b8d5dc749656a9641f4caf13540e2cdec85276964ff8f43bbb1d3b/Flask-1.1.1-py2.py3-none-any.whl (94kB)\n",
      "Collecting gunicorn\n",
      "  Downloading https://files.pythonhosted.org/packages/8c/da/b8dd8deb741bff556db53902d4706774c8e1e67265f69528c14c003644e6/gunicorn-19.9.0-py2.py3-none-any.whl (112kB)\n",
      "Collecting Jinja2>=2.10.1 (from Flask)\n",
      "  Downloading https://files.pythonhosted.org/packages/1d/e7/fd8b501e7a6dfe492a433deb7b9d833d39ca74916fa8bc63dd1a4947a671/Jinja2-2.10.1-py2.py3-none-any.whl (124kB)\n",
      "Collecting itsdangerous>=0.24 (from Flask)\n",
      "  Downloading https://files.pythonhosted.org/packages/76/ae/44b03b253d6fade317f32c24d100b3b35c2239807046a4c953c7b89fa49e/itsdangerous-1.1.0-py2.py3-none-any.whl\n",
      "Collecting click>=5.1 (from Flask)\n",
      "  Downloading https://files.pythonhosted.org/packages/fa/37/45185cb5abbc30d7257104c434fe0b07e5a195a6847506c074527aa599ec/Click-7.0-py2.py3-none-any.whl (81kB)\n",
      "Collecting Werkzeug>=0.15 (from Flask)\n",
      "  Downloading https://files.pythonhosted.org/packages/9f/57/92a497e38161ce40606c27a86759c6b92dd34fcdb33f64171ec559257c02/Werkzeug-0.15.4-py2.py3-none-any.whl (327kB)\n",
      "Collecting MarkupSafe>=0.23 (from Jinja2>=2.10.1->Flask)\n",
      "  Downloading https://files.pythonhosted.org/packages/98/7b/ff284bd8c80654e471b769062a9b43cc5d03e7a615048d96f4619df8d420/MarkupSafe-1.1.1-cp37-cp37m-manylinux1_x86_64.whl\n",
      "Installing collected packages: MarkupSafe, Jinja2, itsdangerous, click, Werkzeug, Flask, gunicorn\n",
      "Successfully installed Flask-1.1.1 Jinja2-2.10.1 MarkupSafe-1.1.1 Werkzeug-0.15.4 click-7.0 gunicorn-19.9.0 itsdangerous-1.1.0\n",
      "Removing intermediate container 460371faaa41\n",
      " ---> dfd697e689f0\n",
      "Step 6/6 : CMD exec gunicorn --bind :$PORT --workers 1 --threads 8 app:app\n",
      " ---> Running in db9a05f6a64f\n",
      "Removing intermediate container db9a05f6a64f\n",
      " ---> 7058cf49bba4\n",
      "Successfully built 7058cf49bba4\n",
      "Successfully tagged mass90/helloworld-python:latest\n"
     ]
    }
   ],
   "source": [
    "sudo docker build -t mass90/helloworld-python 5-sample-application/app/"
   ]
  },
  {
   "cell_type": "code",
   "execution_count": 14,
   "metadata": {
    "scrolled": true
   },
   "outputs": [
    {
     "name": "stdout",
     "output_type": "stream",
     "text": [
      "The push refers to repository [docker.io/mass90/helloworld-python]\n",
      "\n",
      "\u001b[1B83abaaa5: Preparing \n",
      "\u001b[1B73f5b46f: Preparing \n",
      "\u001b[1Bb6e057e3: Preparing \n",
      "\u001b[1Bf713b408: Preparing \n",
      "\u001b[1Bef7447f3: Preparing \n",
      "\u001b[1Bad5abfed: Preparing \n",
      "\u001b[1B3b4b5a7d: Preparing \n",
      "\u001b[1B7c756d71: Preparing \n",
      "\u001b[1B27e771c8: Preparing \n",
      "\u001b[1B3b51f46d: Preparing \n",
      "\u001b[1B1dcd4114: Preparing \n",
      "\u001b[12Blatest: digest: sha256:b903b3cb173d6cd7240f57ca6b1852d8e71255c369c19ba5a39c5904a47e6607 size: 2842\n"
     ]
    }
   ],
   "source": [
    "sudo docker push mass90/helloworld-python"
   ]
  },
  {
   "cell_type": "code",
   "execution_count": 16,
   "metadata": {},
   "outputs": [
    {
     "name": "stdout",
     "output_type": "stream",
     "text": [
      "error: unable to recognize \"5-sample-application/app/service.yaml\": Get https://10.0.2.15:8443/api?timeout=32s: dial tcp 10.0.2.15:8443: connect: connection refused\n"
     ]
    },
    {
     "ename": "",
     "evalue": "1",
     "output_type": "error",
     "traceback": []
    }
   ],
   "source": [
    "kubectl apply --filename 5-sample-application/app/service.yaml"
   ]
  },
  {
   "cell_type": "code",
   "execution_count": null,
   "metadata": {},
   "outputs": [],
   "source": []
  }
 ],
 "metadata": {
  "kernelspec": {
   "display_name": "Bash",
   "language": "bash",
   "name": "bash"
  },
  "language_info": {
   "codemirror_mode": "shell",
   "file_extension": ".sh",
   "mimetype": "text/x-sh",
   "name": "bash"
  }
 },
 "nbformat": 4,
 "nbformat_minor": 2
}
