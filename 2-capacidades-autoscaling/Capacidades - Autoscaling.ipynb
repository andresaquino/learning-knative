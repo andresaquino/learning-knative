{
 "cells": [
  {
   "cell_type": "code",
   "execution_count": 1,
   "metadata": {},
   "outputs": [
    {
     "name": "stdout",
     "output_type": "stream",
     "text": [
      "service.serving.knative.dev/autoscale-go created\n"
     ]
    }
   ],
   "source": [
    "kubectl apply -f $OLDPWD/simple-autoscaling.yaml"
   ]
  },
  {
   "cell_type": "code",
   "execution_count": 3,
   "metadata": {},
   "outputs": [
    {
     "name": "stdout",
     "output_type": "stream",
     "text": [
      "istio-ingressgateway\n"
     ]
    }
   ],
   "source": [
    "# In Knative 0.2.x and prior versions, the `knative-ingressgateway` service was used instead of `istio-ingressgateway`.\n",
    "INGRESSGATEWAY=knative-ingressgateway\n",
    "\n",
    "# The use of `knative-ingressgateway` is deprecated in Knative v0.3.x.\n",
    "# Use `istio-ingressgateway` instead, since `knative-ingressgateway`\n",
    "# will be removed in Knative v0.4.\n",
    "if kubectl get configmap config-istio -n knative-serving &> /dev/null; then\n",
    "  INGRESSGATEWAY=istio-ingressgateway\n",
    "fi\n",
    "\n",
    "echo $INGRESSGATEWAY"
   ]
  },
  {
   "cell_type": "code",
   "execution_count": 4,
   "metadata": {},
   "outputs": [
    {
     "name": "stdout",
     "output_type": "stream",
     "text": [
      "10.0.2.15:30363\n"
     ]
    }
   ],
   "source": [
    "export IP_ADDRESS=$(kubectl get node  --output 'jsonpath={.items[0].status.addresses[0].address}'):$(kubectl get svc $INGRESSGATEWAY --namespace istio-system   --output 'jsonpath={.spec.ports[?(@.port==80)].nodePort}')\n",
    "echo $IP_ADDRESS"
   ]
  },
  {
   "cell_type": "code",
   "execution_count": 6,
   "metadata": {},
   "outputs": [
    {
     "name": "stdout",
     "output_type": "stream",
     "text": [
      "NAME           DOMAIN                             LATESTCREATED        LATESTREADY          READY   REASON\n",
      "autoscale-go   autoscale-go.default.example.com   autoscale-go-qpzg6   autoscale-go-qpzg6   True    \n",
      "autoscale-go.default.example.com\n"
     ]
    }
   ],
   "source": [
    "kubectl get service.serving.knative.dev/autoscale-go\n",
    "export HOST_URL=$(kubectl get route autoscale-go  --output jsonpath='{.status.domain}')\n",
    "echo $HOST_URL"
   ]
  },
  {
   "cell_type": "code",
   "execution_count": 11,
   "metadata": {},
   "outputs": [
    {
     "name": "stdout",
     "output_type": "stream",
     "text": [
      "Slept for 100.38 milliseconds.\n",
      "Allocated 5 Mb of memory.\n",
      "The largest prime less than 10000 is 9973.\n",
      "Slept for 100.09 milliseconds.\n",
      "[3]+  Done                    curl -H \"Host: ${HOST_URL}\" http://${IP_ADDRESS}?sleep=100\n",
      "curl -H \"Host: autoscale-go.default.example.com\" http://10.0.2.15:30363?sleep=100&prime=10000&bloat=5\n"
     ]
    }
   ],
   "source": [
    "curl -H \"Host: ${HOST_URL}\" \"http://${IP_ADDRESS}?sleep=100&prime=10000&bloat=5\"\n",
    "echo \"curl -H \\\"Host: ${HOST_URL}\\\" http://${IP_ADDRESS}?sleep=100&prime=10000&bloat=5\""
   ]
  },
  {
   "cell_type": "code",
   "execution_count": 14,
   "metadata": {
    "scrolled": true
   },
   "outputs": [
    {
     "name": "stdout",
     "output_type": "stream",
     "text": [
      "\n",
      "Summary:\n",
      "  Total:\t30.1173 secs\n",
      "  Slowest:\t0.4070 secs\n",
      "  Fastest:\t0.1024 secs\n",
      "  Average:\t0.1270 secs\n",
      "  Requests/sec:\t392.5317\n",
      "  \n",
      "  Total data:\t1182157 bytes\n",
      "  Size/request:\t99 bytes\n",
      "\n",
      "Response time histogram:\n",
      "  0.102 [1]\t|\n",
      "  0.133 [9075]\t|■■■■■■■■■■■■■■■■■■■■■■■■■■■■■■■■■■■■■■■■\n",
      "  0.163 [2016]\t|■■■■■■■■■\n",
      "  0.194 [390]\t|■■\n",
      "  0.224 [150]\t|■\n",
      "  0.255 [87]\t|\n",
      "  0.285 [38]\t|\n",
      "  0.316 [16]\t|\n",
      "  0.346 [26]\t|\n",
      "  0.377 [3]\t|\n",
      "  0.407 [20]\t|\n",
      "\n",
      "\n",
      "Latency distribution:\n",
      "  10% in 0.1082 secs\n",
      "  25% in 0.1122 secs\n",
      "  50% in 0.1194 secs\n",
      "  75% in 0.1316 secs\n",
      "  90% in 0.1507 secs\n",
      "  95% in 0.1719 secs\n",
      "  99% in 0.2499 secs\n",
      "\n",
      "Details (average, fastest, slowest):\n",
      "  DNS+dialup:\t0.0001 secs, 0.1024 secs, 0.4070 secs\n",
      "  DNS-lookup:\t0.0000 secs, 0.0000 secs, 0.0000 secs\n",
      "  req write:\t0.0000 secs, 0.0000 secs, 0.0245 secs\n",
      "  resp wait:\t0.1267 secs, 0.1024 secs, 0.4069 secs\n",
      "  resp read:\t0.0001 secs, 0.0000 secs, 0.0164 secs\n",
      "\n",
      "Status code distribution:\n",
      "  [200]\t11822 responses\n",
      "\n",
      "\n",
      "\n"
     ]
    }
   ],
   "source": [
    "hey -z 30s -c 50 \\\n",
    "  -host ${HOST_URL} \\\n",
    "  \"http://${IP_ADDRESS}?sleep=100&prime=10000&bloat=5\""
   ]
  },
  {
   "cell_type": "code",
   "execution_count": 15,
   "metadata": {},
   "outputs": [
    {
     "name": "stdout",
     "output_type": "stream",
     "text": [
      "service.serving.knative.dev/autoscale-go configured\n"
     ]
    }
   ],
   "source": [
    "kubectl apply -f $OLDPWD/cpu-autoscaling.yaml"
   ]
  },
  {
   "cell_type": "code",
   "execution_count": 17,
   "metadata": {
    "scrolled": true
   },
   "outputs": [
    {
     "name": "stdout",
     "output_type": "stream",
     "text": [
      "\n",
      "Summary:\n",
      "  Total:\t30.2166 secs\n",
      "  Slowest:\t0.6572 secs\n",
      "  Fastest:\t0.1131 secs\n",
      "  Average:\t0.2494 secs\n",
      "  Requests/sec:\t199.5591\n",
      "  \n",
      "  Total data:\t603000 bytes\n",
      "  Size/request:\t100 bytes\n",
      "\n",
      "Response time histogram:\n",
      "  0.113 [1]\t|\n",
      "  0.168 [658]\t|■■■■■■■■■■■■■■\n",
      "  0.222 [1859]\t|■■■■■■■■■■■■■■■■■■■■■■■■■■■■■■■■■■■■■■■■\n",
      "  0.276 [1692]\t|■■■■■■■■■■■■■■■■■■■■■■■■■■■■■■■■■■■■\n",
      "  0.331 [989]\t|■■■■■■■■■■■■■■■■■■■■■\n",
      "  0.385 [496]\t|■■■■■■■■■■■\n",
      "  0.440 [208]\t|■■■■\n",
      "  0.494 [67]\t|■\n",
      "  0.548 [36]\t|■\n",
      "  0.603 [15]\t|\n",
      "  0.657 [9]\t|\n",
      "\n",
      "\n",
      "Latency distribution:\n",
      "  10% in 0.1652 secs\n",
      "  25% in 0.1953 secs\n",
      "  50% in 0.2353 secs\n",
      "  75% in 0.2902 secs\n",
      "  90% in 0.3502 secs\n",
      "  95% in 0.3927 secs\n",
      "  99% in 0.4947 secs\n",
      "\n",
      "Details (average, fastest, slowest):\n",
      "  DNS+dialup:\t0.0001 secs, 0.1131 secs, 0.6572 secs\n",
      "  DNS-lookup:\t0.0000 secs, 0.0000 secs, 0.0000 secs\n",
      "  req write:\t0.0001 secs, 0.0000 secs, 0.0490 secs\n",
      "  resp wait:\t0.2489 secs, 0.1112 secs, 0.6570 secs\n",
      "  resp read:\t0.0002 secs, 0.0000 secs, 0.0491 secs\n",
      "\n",
      "Status code distribution:\n",
      "  [200]\t6030 responses\n",
      "\n",
      "\n",
      "\n"
     ]
    }
   ],
   "source": [
    "hey -z 30s -c 50 \\\n",
    "  -host ${HOST_URL} \\\n",
    "  \"http://${IP_ADDRESS}?sleep=100&prime=10000&bloat=5\""
   ]
  },
  {
   "cell_type": "code",
   "execution_count": 22,
   "metadata": {},
   "outputs": [
    {
     "name": "stdout",
     "output_type": "stream",
     "text": [
      "service.serving.knative.dev/autoscale-go configured\n"
     ]
    }
   ],
   "source": [
    "kubectl apply -f $OLDPWD/scaling-bounds-autoscaling.yaml"
   ]
  },
  {
   "cell_type": "code",
   "execution_count": 23,
   "metadata": {},
   "outputs": [
    {
     "name": "stdout",
     "output_type": "stream",
     "text": [
      "\n",
      "Summary:\n",
      "  Total:\t30.4160 secs\n",
      "  Slowest:\t1.7994 secs\n",
      "  Fastest:\t0.1218 secs\n",
      "  Average:\t0.4932 secs\n",
      "  Requests/sec:\t200.8808\n",
      "  \n",
      "  Total data:\t611000 bytes\n",
      "  Size/request:\t100 bytes\n",
      "\n",
      "Response time histogram:\n",
      "  0.122 [1]\t|\n",
      "  0.290 [1249]\t|■■■■■■■■■■■■■■■■■■■■■■■■■■■\n",
      "  0.457 [1881]\t|■■■■■■■■■■■■■■■■■■■■■■■■■■■■■■■■■■■■■■■■\n",
      "  0.625 [1435]\t|■■■■■■■■■■■■■■■■■■■■■■■■■■■■■■■\n",
      "  0.793 [828]\t|■■■■■■■■■■■■■■■■■■\n",
      "  0.961 [411]\t|■■■■■■■■■\n",
      "  1.128 [202]\t|■■■■\n",
      "  1.296 [64]\t|■\n",
      "  1.464 [34]\t|■\n",
      "  1.632 [3]\t|\n",
      "  1.799 [2]\t|\n",
      "\n",
      "\n",
      "Latency distribution:\n",
      "  10% in 0.2332 secs\n",
      "  25% in 0.3128 secs\n",
      "  50% in 0.4503 secs\n",
      "  75% in 0.6291 secs\n",
      "  90% in 0.8192 secs\n",
      "  95% in 0.9610 secs\n",
      "  99% in 1.2230 secs\n",
      "\n",
      "Details (average, fastest, slowest):\n",
      "  DNS+dialup:\t0.0002 secs, 0.1218 secs, 1.7994 secs\n",
      "  DNS-lookup:\t0.0000 secs, 0.0000 secs, 0.0000 secs\n",
      "  req write:\t0.0001 secs, 0.0000 secs, 0.0522 secs\n",
      "  resp wait:\t0.4912 secs, 0.1216 secs, 1.7993 secs\n",
      "  resp read:\t0.0001 secs, 0.0000 secs, 0.0270 secs\n",
      "\n",
      "Status code distribution:\n",
      "  [200]\t6110 responses\n",
      "\n",
      "\n",
      "\n"
     ]
    }
   ],
   "source": [
    "hey -z 30s -c 100 \\\n",
    "  -host ${HOST_URL} \\\n",
    "  \"http://${IP_ADDRESS}?sleep=100&prime=10000&bloat=5\""
   ]
  },
  {
   "cell_type": "code",
   "execution_count": null,
   "metadata": {},
   "outputs": [],
   "source": []
  }
 ],
 "metadata": {
  "kernelspec": {
   "display_name": "Bash",
   "language": "bash",
   "name": "bash"
  },
  "language_info": {
   "codemirror_mode": "shell",
   "file_extension": ".sh",
   "mimetype": "text/x-sh",
   "name": "bash"
  }
 },
 "nbformat": 4,
 "nbformat_minor": 2
}
