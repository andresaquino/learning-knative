{
 "cells": [
  {
   "cell_type": "code",
   "execution_count": 2,
   "metadata": {
    "scrolled": true
   },
   "outputs": [
    {
     "name": "stdout",
     "output_type": "stream",
     "text": [
      "! \"minikube\" cluster does not exist\n",
      "! \"minikube\" profile does not exist\n",
      "* minikube v1.2.0 on linux (amd64)\n",
      "* Creating none VM (CPUs=4, Memory=8192MB, Disk=30000MB) ...\n",
      "* Configuring environment for Kubernetes v1.12.0 on Docker 18.09.7\n",
      "  - apiserver.enable-admission-plugins=LimitRanger,NamespaceExists,NamespaceLifecycle,ResourceQuota,ServiceAccount,DefaultStorageClass,MutatingAdmissionWebhook\n",
      "  - kubelet.resolv-conf=/run/systemd/resolve/resolv.conf\n",
      "* Downloading kubeadm v1.12.0\n",
      "* Downloading kubelet v1.12.0\n",
      "* Pulling images ...\n",
      "* Launching Kubernetes ... \n",
      "* Configuring local host environment ...\n",
      "\n",
      "! The 'none' driver provides limited isolation and may reduce system security and reliability.\n",
      "! For more information, see:\n",
      "  - https://github.com/kubernetes/minikube/blob/master/docs/vmdriver-none.md\n",
      "\n",
      "* Verifying: apiserver proxy etcd scheduler controller dns\n",
      "* Done! kubectl is now configured to use \"minikube\"\n"
     ]
    }
   ],
   "source": [
    "# Start MiniKube Cluster\n",
    "\n",
    "sudo minikube delete\n",
    "sudo CHANGE_MINIKUBE_NONE_USER=true minikube start \\\n",
    "  --vm-driver=none \\\n",
    "  --memory=8192 \\\n",
    "  --cpus=4 \\\n",
    "  --kubernetes-version=v1.12.0 \\\n",
    "  --disk-size=30g \\\n",
    "  --extra-config=apiserver.enable-admission-plugins=\"LimitRanger,NamespaceExists,NamespaceLifecycle,ResourceQuota,ServiceAccount,DefaultStorageClass,MutatingAdmissionWebhook\""
   ]
  },
  {
   "cell_type": "code",
   "execution_count": 3,
   "metadata": {},
   "outputs": [
    {
     "name": "stdout",
     "output_type": "stream",
     "text": [
      "Client Version: version.Info{Major:\"1\", Minor:\"15\", GitVersion:\"v1.15.0\", GitCommit:\"e8462b5b5dc2584fdcd18e6bcfe9f1e4d970a529\", GitTreeState:\"clean\", BuildDate:\"2019-06-19T16:40:16Z\", GoVersion:\"go1.12.5\", Compiler:\"gc\", Platform:\"linux/amd64\"}\n",
      "Server Version: version.Info{Major:\"1\", Minor:\"12\", GitVersion:\"v1.12.0\", GitCommit:\"0ed33881dc4355495f623c6f22e7dd0b7632b7c0\", GitTreeState:\"clean\", BuildDate:\"2018-09-27T16:55:41Z\", GoVersion:\"go1.10.4\", Compiler:\"gc\", Platform:\"linux/amd64\"}\n"
     ]
    }
   ],
   "source": [
    "kubectl version"
   ]
  },
  {
   "cell_type": "code",
   "execution_count": 4,
   "metadata": {
    "scrolled": true
   },
   "outputs": [
    {
     "name": "stdout",
     "output_type": "stream",
     "text": [
      "customresourcedefinition.apiextensions.k8s.io/virtualservices.networking.istio.io created\n",
      "customresourcedefinition.apiextensions.k8s.io/destinationrules.networking.istio.io created\n",
      "customresourcedefinition.apiextensions.k8s.io/serviceentries.networking.istio.io created\n",
      "customresourcedefinition.apiextensions.k8s.io/gateways.networking.istio.io created\n",
      "customresourcedefinition.apiextensions.k8s.io/envoyfilters.networking.istio.io created\n",
      "customresourcedefinition.apiextensions.k8s.io/policies.authentication.istio.io created\n",
      "customresourcedefinition.apiextensions.k8s.io/meshpolicies.authentication.istio.io created\n",
      "customresourcedefinition.apiextensions.k8s.io/httpapispecbindings.config.istio.io created\n",
      "customresourcedefinition.apiextensions.k8s.io/httpapispecs.config.istio.io created\n",
      "customresourcedefinition.apiextensions.k8s.io/quotaspecbindings.config.istio.io created\n",
      "customresourcedefinition.apiextensions.k8s.io/quotaspecs.config.istio.io created\n",
      "customresourcedefinition.apiextensions.k8s.io/rules.config.istio.io created\n",
      "customresourcedefinition.apiextensions.k8s.io/attributemanifests.config.istio.io created\n",
      "customresourcedefinition.apiextensions.k8s.io/bypasses.config.istio.io created\n",
      "customresourcedefinition.apiextensions.k8s.io/circonuses.config.istio.io created\n",
      "customresourcedefinition.apiextensions.k8s.io/deniers.config.istio.io created\n",
      "customresourcedefinition.apiextensions.k8s.io/fluentds.config.istio.io created\n",
      "customresourcedefinition.apiextensions.k8s.io/kubernetesenvs.config.istio.io created\n",
      "customresourcedefinition.apiextensions.k8s.io/listcheckers.config.istio.io created\n",
      "customresourcedefinition.apiextensions.k8s.io/memquotas.config.istio.io created\n",
      "customresourcedefinition.apiextensions.k8s.io/noops.config.istio.io created\n",
      "customresourcedefinition.apiextensions.k8s.io/opas.config.istio.io created\n",
      "customresourcedefinition.apiextensions.k8s.io/prometheuses.config.istio.io created\n",
      "customresourcedefinition.apiextensions.k8s.io/rbacs.config.istio.io created\n",
      "customresourcedefinition.apiextensions.k8s.io/redisquotas.config.istio.io created\n",
      "customresourcedefinition.apiextensions.k8s.io/servicecontrols.config.istio.io created\n",
      "customresourcedefinition.apiextensions.k8s.io/signalfxs.config.istio.io created\n",
      "customresourcedefinition.apiextensions.k8s.io/solarwindses.config.istio.io created\n",
      "customresourcedefinition.apiextensions.k8s.io/stackdrivers.config.istio.io created\n",
      "customresourcedefinition.apiextensions.k8s.io/statsds.config.istio.io created\n",
      "customresourcedefinition.apiextensions.k8s.io/stdios.config.istio.io created\n",
      "customresourcedefinition.apiextensions.k8s.io/apikeys.config.istio.io created\n",
      "customresourcedefinition.apiextensions.k8s.io/authorizations.config.istio.io created\n",
      "customresourcedefinition.apiextensions.k8s.io/checknothings.config.istio.io created\n",
      "customresourcedefinition.apiextensions.k8s.io/kuberneteses.config.istio.io created\n",
      "customresourcedefinition.apiextensions.k8s.io/listentries.config.istio.io created\n",
      "customresourcedefinition.apiextensions.k8s.io/logentries.config.istio.io created\n",
      "customresourcedefinition.apiextensions.k8s.io/edges.config.istio.io created\n",
      "customresourcedefinition.apiextensions.k8s.io/metrics.config.istio.io created\n",
      "customresourcedefinition.apiextensions.k8s.io/quotas.config.istio.io created\n",
      "customresourcedefinition.apiextensions.k8s.io/reportnothings.config.istio.io created\n",
      "customresourcedefinition.apiextensions.k8s.io/servicecontrolreports.config.istio.io created\n",
      "customresourcedefinition.apiextensions.k8s.io/tracespans.config.istio.io created\n",
      "customresourcedefinition.apiextensions.k8s.io/rbacconfigs.rbac.istio.io created\n",
      "customresourcedefinition.apiextensions.k8s.io/serviceroles.rbac.istio.io created\n",
      "customresourcedefinition.apiextensions.k8s.io/servicerolebindings.rbac.istio.io created\n",
      "customresourcedefinition.apiextensions.k8s.io/adapters.config.istio.io created\n",
      "customresourcedefinition.apiextensions.k8s.io/instances.config.istio.io created\n",
      "customresourcedefinition.apiextensions.k8s.io/templates.config.istio.io created\n",
      "customresourcedefinition.apiextensions.k8s.io/handlers.config.istio.io created\n",
      "  % Total    % Received % Xferd  Average Speed   Time    Time     Time  Current\n",
      "                                 Dload  Upload   Total   Spent    Left  Speed\n",
      "100   601    0   601    0     0   1688      0 --:--:-- --:--:-- --:--:--  1688\n",
      "namespace/istio-system created\n",
      "configmap/istio-galley-configuration created\n",
      "configmap/istio-statsd-prom-bridge created\n",
      "configmap/istio-security-custom-resources created\n",
      "configmap/istio created\n",
      "configmap/istio-sidecar-injector created\n",
      "serviceaccount/istio-galley-service-account created\n",
      "100  116k  100  116k    0     0   120k      0 --:--:-- --:--:-- --:--:-- 16.2M\n",
      "serviceaccount/istio-egressgateway-service-account created\n",
      "serviceaccount/istio-ingressgateway-service-account created\n",
      "serviceaccount/istio-mixer-service-account created\n",
      "serviceaccount/istio-pilot-service-account created\n",
      "serviceaccount/istio-cleanup-secrets-service-account created\n",
      "clusterrole.rbac.authorization.k8s.io/istio-cleanup-secrets-istio-system created\n",
      "clusterrolebinding.rbac.authorization.k8s.io/istio-cleanup-secrets-istio-system created\n",
      "job.batch/istio-cleanup-secrets created\n",
      "serviceaccount/istio-security-post-install-account created\n",
      "clusterrole.rbac.authorization.k8s.io/istio-security-post-install-istio-system created\n",
      "clusterrolebinding.rbac.authorization.k8s.io/istio-security-post-install-role-binding-istio-system created\n",
      "job.batch/istio-security-post-install created\n",
      "serviceaccount/istio-citadel-service-account created\n",
      "serviceaccount/istio-sidecar-injector-service-account created\n",
      "customresourcedefinition.apiextensions.k8s.io/virtualservices.networking.istio.io unchanged\n",
      "customresourcedefinition.apiextensions.k8s.io/destinationrules.networking.istio.io unchanged\n",
      "customresourcedefinition.apiextensions.k8s.io/serviceentries.networking.istio.io unchanged\n",
      "customresourcedefinition.apiextensions.k8s.io/gateways.networking.istio.io unchanged\n",
      "customresourcedefinition.apiextensions.k8s.io/envoyfilters.networking.istio.io unchanged\n",
      "customresourcedefinition.apiextensions.k8s.io/httpapispecbindings.config.istio.io unchanged\n",
      "customresourcedefinition.apiextensions.k8s.io/httpapispecs.config.istio.io unchanged\n",
      "customresourcedefinition.apiextensions.k8s.io/quotaspecbindings.config.istio.io unchanged\n",
      "customresourcedefinition.apiextensions.k8s.io/quotaspecs.config.istio.io unchanged\n",
      "customresourcedefinition.apiextensions.k8s.io/rules.config.istio.io unchanged\n",
      "customresourcedefinition.apiextensions.k8s.io/attributemanifests.config.istio.io unchanged\n",
      "customresourcedefinition.apiextensions.k8s.io/bypasses.config.istio.io unchanged\n",
      "customresourcedefinition.apiextensions.k8s.io/circonuses.config.istio.io unchanged\n",
      "customresourcedefinition.apiextensions.k8s.io/deniers.config.istio.io unchanged\n",
      "customresourcedefinition.apiextensions.k8s.io/fluentds.config.istio.io unchanged\n",
      "customresourcedefinition.apiextensions.k8s.io/kubernetesenvs.config.istio.io unchanged\n",
      "customresourcedefinition.apiextensions.k8s.io/listcheckers.config.istio.io unchanged\n",
      "customresourcedefinition.apiextensions.k8s.io/memquotas.config.istio.io unchanged\n",
      "customresourcedefinition.apiextensions.k8s.io/noops.config.istio.io unchanged\n",
      "customresourcedefinition.apiextensions.k8s.io/opas.config.istio.io unchanged\n",
      "customresourcedefinition.apiextensions.k8s.io/prometheuses.config.istio.io unchanged\n",
      "customresourcedefinition.apiextensions.k8s.io/rbacs.config.istio.io unchanged\n",
      "customresourcedefinition.apiextensions.k8s.io/redisquotas.config.istio.io unchanged\n",
      "customresourcedefinition.apiextensions.k8s.io/servicecontrols.config.istio.io unchanged\n",
      "customresourcedefinition.apiextensions.k8s.io/signalfxs.config.istio.io unchanged\n",
      "customresourcedefinition.apiextensions.k8s.io/solarwindses.config.istio.io unchanged\n",
      "customresourcedefinition.apiextensions.k8s.io/stackdrivers.config.istio.io unchanged\n",
      "customresourcedefinition.apiextensions.k8s.io/statsds.config.istio.io unchanged\n",
      "customresourcedefinition.apiextensions.k8s.io/stdios.config.istio.io unchanged\n",
      "customresourcedefinition.apiextensions.k8s.io/apikeys.config.istio.io unchanged\n",
      "customresourcedefinition.apiextensions.k8s.io/authorizations.config.istio.io unchanged\n"
     ]
    },
    {
     "name": "stdout",
     "output_type": "stream",
     "text": [
      "customresourcedefinition.apiextensions.k8s.io/checknothings.config.istio.io unchanged\n",
      "customresourcedefinition.apiextensions.k8s.io/kuberneteses.config.istio.io unchanged\n",
      "customresourcedefinition.apiextensions.k8s.io/listentries.config.istio.io unchanged\n",
      "customresourcedefinition.apiextensions.k8s.io/logentries.config.istio.io unchanged\n",
      "customresourcedefinition.apiextensions.k8s.io/edges.config.istio.io unchanged\n",
      "customresourcedefinition.apiextensions.k8s.io/metrics.config.istio.io unchanged\n",
      "customresourcedefinition.apiextensions.k8s.io/quotas.config.istio.io unchanged\n",
      "customresourcedefinition.apiextensions.k8s.io/reportnothings.config.istio.io unchanged\n",
      "customresourcedefinition.apiextensions.k8s.io/servicecontrolreports.config.istio.io unchanged\n",
      "customresourcedefinition.apiextensions.k8s.io/tracespans.config.istio.io unchanged\n",
      "customresourcedefinition.apiextensions.k8s.io/rbacconfigs.rbac.istio.io unchanged\n",
      "customresourcedefinition.apiextensions.k8s.io/serviceroles.rbac.istio.io unchanged\n",
      "customresourcedefinition.apiextensions.k8s.io/servicerolebindings.rbac.istio.io unchanged\n",
      "customresourcedefinition.apiextensions.k8s.io/adapters.config.istio.io unchanged\n",
      "customresourcedefinition.apiextensions.k8s.io/instances.config.istio.io unchanged\n",
      "customresourcedefinition.apiextensions.k8s.io/templates.config.istio.io unchanged\n",
      "customresourcedefinition.apiextensions.k8s.io/handlers.config.istio.io unchanged\n",
      "clusterrole.rbac.authorization.k8s.io/istio-galley-istio-system created\n",
      "clusterrole.rbac.authorization.k8s.io/istio-egressgateway-istio-system created\n",
      "clusterrole.rbac.authorization.k8s.io/istio-ingressgateway-istio-system created\n",
      "clusterrole.rbac.authorization.k8s.io/istio-mixer-istio-system created\n",
      "clusterrole.rbac.authorization.k8s.io/istio-pilot-istio-system created\n",
      "clusterrole.rbac.authorization.k8s.io/istio-citadel-istio-system created\n",
      "clusterrole.rbac.authorization.k8s.io/istio-sidecar-injector-istio-system created\n",
      "clusterrolebinding.rbac.authorization.k8s.io/istio-galley-admin-role-binding-istio-system created\n",
      "clusterrolebinding.rbac.authorization.k8s.io/istio-egressgateway-istio-system created\n",
      "clusterrolebinding.rbac.authorization.k8s.io/istio-ingressgateway-istio-system created\n",
      "clusterrolebinding.rbac.authorization.k8s.io/istio-mixer-admin-role-binding-istio-system created\n",
      "clusterrolebinding.rbac.authorization.k8s.io/istio-pilot-istio-system created\n",
      "clusterrolebinding.rbac.authorization.k8s.io/istio-citadel-istio-system created\n",
      "clusterrolebinding.rbac.authorization.k8s.io/istio-sidecar-injector-admin-role-binding-istio-system created\n",
      "service/istio-galley created\n",
      "service/istio-egressgateway created\n",
      "service/istio-ingressgateway created\n",
      "service/istio-policy created\n",
      "service/istio-telemetry created\n",
      "service/istio-pilot created\n",
      "service/istio-citadel created\n",
      "service/istio-sidecar-injector created\n",
      "deployment.extensions/istio-galley created\n",
      "deployment.extensions/istio-egressgateway created\n",
      "deployment.extensions/istio-ingressgateway created\n",
      "deployment.extensions/istio-policy created\n",
      "deployment.extensions/istio-telemetry created\n",
      "deployment.extensions/istio-pilot created\n",
      "deployment.extensions/istio-citadel created\n",
      "deployment.extensions/istio-sidecar-injector created\n",
      "gateway.networking.istio.io/istio-autogenerated-k8s-ingress created\n",
      "horizontalpodautoscaler.autoscaling/istio-egressgateway created\n",
      "horizontalpodautoscaler.autoscaling/istio-ingressgateway created\n",
      "horizontalpodautoscaler.autoscaling/istio-policy created\n",
      "horizontalpodautoscaler.autoscaling/istio-telemetry created\n",
      "horizontalpodautoscaler.autoscaling/istio-pilot created\n",
      "mutatingwebhookconfiguration.admissionregistration.k8s.io/istio-sidecar-injector created\n",
      "attributemanifest.config.istio.io/istioproxy created\n",
      "attributemanifest.config.istio.io/kubernetes created\n",
      "stdio.config.istio.io/handler created\n",
      "logentry.config.istio.io/accesslog created\n",
      "logentry.config.istio.io/tcpaccesslog created\n",
      "rule.config.istio.io/stdio created\n",
      "rule.config.istio.io/stdiotcp created\n",
      "metric.config.istio.io/requestcount created\n",
      "metric.config.istio.io/requestduration created\n",
      "metric.config.istio.io/requestsize created\n",
      "metric.config.istio.io/responsesize created\n",
      "metric.config.istio.io/tcpbytesent created\n",
      "metric.config.istio.io/tcpbytereceived created\n",
      "prometheus.config.istio.io/handler created\n",
      "rule.config.istio.io/promhttp created\n",
      "rule.config.istio.io/promtcp created\n",
      "kubernetesenv.config.istio.io/handler created\n",
      "rule.config.istio.io/kubeattrgenrulerule created\n",
      "rule.config.istio.io/tcpkubeattrgenrulerule created\n",
      "kubernetes.config.istio.io/attributes created\n",
      "destinationrule.networking.istio.io/istio-policy created\n",
      "destinationrule.networking.istio.io/istio-telemetry created\n",
      "serviceaccount/cluster-local-gateway-service-account created\n",
      "clusterrole.rbac.authorization.k8s.io/cluster-local-gateway-istio-system created\n",
      "clusterrolebinding.rbac.authorization.k8s.io/cluster-local-gateway-istio-system created\n",
      "service/cluster-local-gateway created\n",
      "deployment.extensions/cluster-local-gateway created\n",
      "horizontalpodautoscaler.autoscaling/cluster-local-gateway created\n",
      "namespace/default labeled\n"
     ]
    }
   ],
   "source": [
    "# Install Istio\n",
    "kubectl apply --filename https://github.com/knative/serving/releases/download/v0.4.0/istio-crds.yaml\n",
    "curl -L https://github.com/knative/serving/releases/download/v0.4.0/istio.yaml \\\n",
    "  | sed 's/LoadBalancer/NodePort/' \\\n",
    "  | kubectl apply --filename -\n",
    "  \n",
    "kubectl label namespace default istio-injection=enabled"
   ]
  },
  {
   "cell_type": "code",
   "execution_count": 5,
   "metadata": {},
   "outputs": [
    {
     "name": "stdout",
     "output_type": "stream",
     "text": [
      "NAME                                          READY   STATUS              RESTARTS   AGE\n",
      "pod/cluster-local-gateway-5c99ffcc5b-rldgf    0/1     ContainerCreating   0          8s\n",
      "pod/istio-citadel-6799db6cbc-lxffp            0/1     ContainerCreating   0          10s\n",
      "pod/istio-cleanup-secrets-9msx2               0/1     ContainerCreating   0          12s\n",
      "pod/istio-egressgateway-6d68757cc6-9lbqc      0/1     ContainerCreating   0          10s\n",
      "pod/istio-galley-6b86469b9b-mnwjr             0/1     ContainerCreating   0          10s\n",
      "pod/istio-ingressgateway-749c79c9b5-xwvkt     0/1     ContainerCreating   0          10s\n",
      "pod/istio-pilot-666ff98859-thkgt              0/2     ContainerCreating   0          10s\n",
      "pod/istio-policy-7c79ddcd48-clz2v             0/2     ContainerCreating   0          10s\n",
      "pod/istio-security-post-install-rfjmw         0/1     ContainerCreating   0          12s\n",
      "pod/istio-sidecar-injector-6d6659f7f6-7cgl5   0/1     ContainerCreating   0          10s\n",
      "pod/istio-telemetry-6b68549d76-vqcfz          0/2     ContainerCreating   0          10s\n",
      "\n",
      "\n",
      "NAME                             TYPE        CLUSTER-IP       EXTERNAL-IP   PORT(S)                                                                                                                   AGE\n",
      "service/cluster-local-gateway    ClusterIP   10.110.26.213    <none>        80/TCP,443/TCP,31400/TCP,15011/TCP,8060/TCP,15030/TCP,15031/TCP                                                           8s\n",
      "service/istio-citadel            ClusterIP   10.110.141.230   <none>        8060/TCP,9093/TCP                                                                                                         10s\n",
      "service/istio-egressgateway      ClusterIP   10.108.59.38     <none>        80/TCP,443/TCP                                                                                                            11s\n",
      "service/istio-galley             ClusterIP   10.109.125.97    <none>        443/TCP,9093/TCP                                                                                                          11s\n",
      "service/istio-ingressgateway     NodePort    10.106.108.67    <none>        80:30363/TCP,443:31974/TCP,31400:31133/TCP,15011:30053/TCP,8060:32644/TCP,853:30030/TCP,15030:30198/TCP,15031:31947/TCP   11s\n",
      "service/istio-pilot              ClusterIP   10.108.142.182   <none>        15010/TCP,15011/TCP,8080/TCP,9093/TCP                                                                                     10s\n",
      "service/istio-policy             ClusterIP   10.105.247.54    <none>        9091/TCP,15004/TCP,9093/TCP                                                                                               11s\n",
      "service/istio-sidecar-injector   ClusterIP   10.100.50.188    <none>        443/TCP                                                                                                                   10s\n",
      "service/istio-telemetry          ClusterIP   10.109.57.230    <none>        9091/TCP,15004/TCP,9093/TCP,42422/TCP                                                                                     11s\n",
      "\n",
      "\n",
      "NAME                                     DESIRED   CURRENT   UP-TO-DATE   AVAILABLE   AGE\n",
      "deployment.apps/cluster-local-gateway    1         1         1            0           8s\n",
      "deployment.apps/istio-citadel            1         1         1            0           10s\n",
      "deployment.apps/istio-egressgateway      1         1         1            0           10s\n",
      "deployment.apps/istio-galley             1         1         1            0           10s\n",
      "deployment.apps/istio-ingressgateway     1         1         1            0           10s\n",
      "deployment.apps/istio-pilot              1         1         1            0           10s\n",
      "deployment.apps/istio-policy             1         1         1            0           10s\n",
      "deployment.apps/istio-sidecar-injector   1         1         1            0           10s\n",
      "deployment.apps/istio-telemetry          1         1         1            0           10s\n",
      "\n",
      "NAME                                                DESIRED   CURRENT   READY   AGE\n",
      "replicaset.apps/cluster-local-gateway-5c99ffcc5b    1         1         0       8s\n",
      "replicaset.apps/istio-citadel-6799db6cbc            1         1         0       10s\n",
      "replicaset.apps/istio-egressgateway-6d68757cc6      1         1         0       10s\n",
      "replicaset.apps/istio-galley-6b86469b9b             1         1         0       10s\n",
      "replicaset.apps/istio-ingressgateway-749c79c9b5     1         1         0       10s\n",
      "replicaset.apps/istio-pilot-666ff98859              1         1         0       10s\n",
      "replicaset.apps/istio-policy-7c79ddcd48             1         1         0       10s\n",
      "replicaset.apps/istio-sidecar-injector-6d6659f7f6   1         1         0       10s\n",
      "replicaset.apps/istio-telemetry-6b68549d76          1         1         0       10s\n",
      "\n",
      "\n",
      "NAME                                                        REFERENCE                          TARGETS         MINPODS   MAXPODS   REPLICAS   AGE\n",
      "horizontalpodautoscaler.autoscaling/cluster-local-gateway   Deployment/cluster-local-gateway   <unknown>/60%   1         1         0          8s\n",
      "horizontalpodautoscaler.autoscaling/istio-egressgateway     Deployment/istio-egressgateway     <unknown>/80%   1         5         0          9s\n",
      "horizontalpodautoscaler.autoscaling/istio-ingressgateway    Deployment/istio-ingressgateway    <unknown>/80%   1         1         0          9s\n",
      "horizontalpodautoscaler.autoscaling/istio-pilot             Deployment/istio-pilot             <unknown>/60%   3         10        0          9s\n",
      "horizontalpodautoscaler.autoscaling/istio-policy            Deployment/istio-policy            <unknown>/80%   1         5         0          9s\n",
      "horizontalpodautoscaler.autoscaling/istio-telemetry         Deployment/istio-telemetry         <unknown>/80%   1         5         0          9s\n",
      "\n",
      "NAME                                    COMPLETIONS   DURATION   AGE\n",
      "job.batch/istio-cleanup-secrets         0/1           12s        12s\n",
      "job.batch/istio-security-post-install   0/1           12s        12s\n",
      "\n"
     ]
    }
   ],
   "source": [
    "kubectl get all --namespace istio-system"
   ]
  },
  {
   "cell_type": "code",
   "execution_count": 7,
   "metadata": {
    "scrolled": true
   },
   "outputs": [
    {
     "name": "stdout",
     "output_type": "stream",
     "text": [
      "NAME                                      READY   STATUS      RESTARTS   AGE\n",
      "cluster-local-gateway-5c99ffcc5b-rldgf    1/1     Running     0          4m37s\n",
      "istio-citadel-6799db6cbc-lxffp            1/1     Running     0          4m39s\n",
      "istio-cleanup-secrets-9msx2               0/1     Completed   0          4m41s\n",
      "istio-egressgateway-6d68757cc6-9lbqc      1/1     Running     0          4m39s\n",
      "istio-galley-6b86469b9b-mnwjr             1/1     Running     0          4m39s\n",
      "istio-ingressgateway-749c79c9b5-xwvkt     1/1     Running     0          4m39s\n",
      "istio-pilot-666ff98859-gjzv7              2/2     Running     0          4m23s\n",
      "istio-pilot-666ff98859-nljbh              2/2     Running     0          4m23s\n",
      "istio-pilot-666ff98859-thkgt              2/2     Running     0          4m39s\n",
      "istio-policy-7c79ddcd48-clz2v             2/2     Running     0          4m39s\n",
      "istio-security-post-install-rfjmw         0/1     Completed   0          4m41s\n",
      "istio-sidecar-injector-6d6659f7f6-7cgl5   1/1     Running     0          4m39s\n",
      "istio-telemetry-6b68549d76-vqcfz          2/2     Running     0          4m39s\n"
     ]
    }
   ],
   "source": [
    "kubectl get pods --namespace istio-system --watch"
   ]
  },
  {
   "cell_type": "code",
   "execution_count": 8,
   "metadata": {
    "scrolled": true
   },
   "outputs": [
    {
     "name": "stdout",
     "output_type": "stream",
     "text": [
      "  % Total    % Received % Xferd  Average Speed   Time    Time     Time  Current\n",
      "                                 Dload  Upload   Total   Spent    Left  Speed\n",
      "100   603    0   603    0     0   1643      0 --:--:-- --:--:-- --:--:--  1638\n",
      "namespace/knative-serving created\n",
      "clusterrole.rbac.authorization.k8s.io/knative-serving-admin created\n",
      "clusterrole.rbac.authorization.k8s.io/knative-serving-core created\n",
      "100 32897  100 32897    0     0  37087      0 --:--:-- --:--:-- --:--:-- 37087\n",
      "serviceaccount/controller created\n",
      "clusterrolebinding.rbac.authorization.k8s.io/knative-serving-controller-admin created\n",
      "gateway.networking.istio.io/knative-ingress-gateway created\n",
      "gateway.networking.istio.io/cluster-local-gateway created\n",
      "customresourcedefinition.apiextensions.k8s.io/clusteringresses.networking.internal.knative.dev created\n",
      "customresourcedefinition.apiextensions.k8s.io/configurations.serving.knative.dev created\n",
      "customresourcedefinition.apiextensions.k8s.io/images.caching.internal.knative.dev created\n",
      "customresourcedefinition.apiextensions.k8s.io/podautoscalers.autoscaling.internal.knative.dev created\n",
      "customresourcedefinition.apiextensions.k8s.io/revisions.serving.knative.dev created\n",
      "customresourcedefinition.apiextensions.k8s.io/routes.serving.knative.dev created\n",
      "customresourcedefinition.apiextensions.k8s.io/services.serving.knative.dev created\n",
      "service/activator-service created\n",
      "service/controller created\n",
      "service/webhook created\n",
      "image.caching.internal.knative.dev/queue-proxy created\n",
      "deployment.apps/activator created\n",
      "service/autoscaler created\n",
      "deployment.apps/autoscaler created\n",
      "configmap/config-autoscaler created\n",
      "configmap/config-controller created\n",
      "configmap/config-domain created\n",
      "configmap/config-gc created\n",
      "configmap/config-istio created\n",
      "configmap/config-logging created\n",
      "configmap/config-network created\n",
      "configmap/config-observability created\n",
      "deployment.apps/controller created\n",
      "deployment.apps/webhook created\n"
     ]
    }
   ],
   "source": [
    "# Install Knative Serving\n",
    "curl -L https://github.com/knative/serving/releases/download/v0.4.0/serving.yaml \\\n",
    "  | sed 's/LoadBalancer/NodePort/' \\\n",
    "  | kubectl apply --filename -"
   ]
  },
  {
   "cell_type": "code",
   "execution_count": 15,
   "metadata": {},
   "outputs": [
    {
     "name": "stdout",
     "output_type": "stream",
     "text": [
      "NAME                              READY   STATUS    RESTARTS   AGE\n",
      "pod/activator-56555cfd8f-2fr7c    2/2     Running   1          56s\n",
      "pod/autoscaler-6d768b4f67-gzq4r   2/2     Running   2          56s\n",
      "pod/controller-6cf6f85976-5nmc2   1/1     Running   0          55s\n",
      "pod/webhook-6f7dfd6946-b58cz      1/1     Running   0          55s\n",
      "\n",
      "\n",
      "NAME                        TYPE        CLUSTER-IP       EXTERNAL-IP   PORT(S)                  AGE\n",
      "service/activator-service   ClusterIP   10.106.169.63    <none>        80/TCP,81/TCP,9090/TCP   57s\n",
      "service/autoscaler          ClusterIP   10.110.84.149    <none>        8080/TCP,9090/TCP        56s\n",
      "service/controller          ClusterIP   10.111.107.101   <none>        9090/TCP                 57s\n",
      "service/webhook             ClusterIP   10.101.100.27    <none>        443/TCP                  57s\n",
      "\n",
      "\n",
      "NAME                         DESIRED   CURRENT   UP-TO-DATE   AVAILABLE   AGE\n",
      "deployment.apps/activator    1         1         1            1           56s\n",
      "deployment.apps/autoscaler   1         1         1            1           56s\n",
      "deployment.apps/controller   1         1         1            1           55s\n",
      "deployment.apps/webhook      1         1         1            1           55s\n",
      "\n",
      "NAME                                    DESIRED   CURRENT   READY   AGE\n",
      "replicaset.apps/activator-56555cfd8f    1         1         1       56s\n",
      "replicaset.apps/autoscaler-6d768b4f67   1         1         1       56s\n",
      "replicaset.apps/controller-6cf6f85976   1         1         1       55s\n",
      "replicaset.apps/webhook-6f7dfd6946      1         1         1       55s\n",
      "\n",
      "\n",
      "\n",
      "\n",
      "\n",
      "\n",
      "NAME                                             AGE\n",
      "image.caching.internal.knative.dev/queue-proxy   56s\n",
      "\n",
      "\n",
      "\n",
      "\n",
      "\n"
     ]
    }
   ],
   "source": [
    "kubectl get all --namespace knative-serving"
   ]
  },
  {
   "cell_type": "code",
   "execution_count": 16,
   "metadata": {
    "scrolled": true
   },
   "outputs": [
    {
     "name": "stdout",
     "output_type": "stream",
     "text": [
      "NAME                          READY   STATUS    RESTARTS   AGE\n",
      "activator-56555cfd8f-2fr7c    2/2     Running   1          61s\n",
      "autoscaler-6d768b4f67-gzq4r   2/2     Running   2          61s\n",
      "controller-6cf6f85976-5nmc2   1/1     Running   0          60s\n",
      "webhook-6f7dfd6946-b58cz      1/1     Running   0          60s\n"
     ]
    }
   ],
   "source": [
    "kubectl get pods --namespace knative-serving"
   ]
  },
  {
   "cell_type": "code",
   "execution_count": 21,
   "metadata": {},
   "outputs": [
    {
     "name": "stdout",
     "output_type": "stream",
     "text": [
      "service.serving.knative.dev/helloworld-go created\n"
     ]
    }
   ],
   "source": [
    "kubectl apply -f $OLDPWD/hello-world/service.yaml"
   ]
  },
  {
   "cell_type": "code",
   "execution_count": 22,
   "metadata": {},
   "outputs": [
    {
     "name": "stdout",
     "output_type": "stream",
     "text": [
      "NAME                                                  READY   STATUS            RESTARTS   AGE\n",
      "pod/helloworld-go-9gbvq-deployment-6764cb5d5f-9lh2n   0/3     PodInitializing   0          3s\n",
      "\n",
      "\n",
      "NAME                                  TYPE        CLUSTER-IP     EXTERNAL-IP   PORT(S)           AGE\n",
      "service/helloworld-go-9gbvq-service   ClusterIP   10.103.119.1   <none>        80/TCP,9090/TCP   3s\n",
      "service/kubernetes                    ClusterIP   10.96.0.1      <none>        443/TCP           12m\n",
      "\n",
      "\n",
      "NAME                                             DESIRED   CURRENT   UP-TO-DATE   AVAILABLE   AGE\n",
      "deployment.apps/helloworld-go-9gbvq-deployment   1         1         1            0           3s\n",
      "\n",
      "NAME                                                        DESIRED   CURRENT   READY   AGE\n",
      "replicaset.apps/helloworld-go-9gbvq-deployment-6764cb5d5f   1         1         0       3s\n",
      "\n",
      "\n",
      "\n",
      "\n",
      "\n",
      "NAME                                                                 READY     REASON\n",
      "podautoscaler.autoscaling.internal.knative.dev/helloworld-go-9gbvq   Unknown   Queued\n",
      "\n",
      "NAME                                                           AGE\n",
      "image.caching.internal.knative.dev/helloworld-go-9gbvq-cache   3s\n",
      "\n",
      "\n",
      "NAME                                      DOMAIN   READY     REASON\n",
      "route.serving.knative.dev/helloworld-go            Unknown   RevisionMissing\n",
      "\n",
      "NAME                                               SERVICE NAME                  AGE   READY     REASON\n",
      "revision.serving.knative.dev/helloworld-go-9gbvq   helloworld-go-9gbvq-service   4s    Unknown   Deploying\n",
      "\n",
      "NAME                                        DOMAIN   LATESTCREATED         LATESTREADY   READY     REASON\n",
      "service.serving.knative.dev/helloworld-go            helloworld-go-9gbvq                 Unknown   RevisionMissing\n",
      "\n",
      "NAME                                              LATESTCREATED         LATESTREADY   READY     REASON\n",
      "configuration.serving.knative.dev/helloworld-go   helloworld-go-9gbvq                 Unknown   \n"
     ]
    }
   ],
   "source": [
    "kubectl get all"
   ]
  },
  {
   "cell_type": "code",
   "execution_count": 23,
   "metadata": {},
   "outputs": [
    {
     "name": "stdout",
     "output_type": "stream",
     "text": [
      "istio-ingressgateway\n"
     ]
    }
   ],
   "source": [
    "# In Knative 0.2.x and prior versions, the `knative-ingressgateway` service was used instead of `istio-ingressgateway`.\n",
    "INGRESSGATEWAY=knative-ingressgateway\n",
    "\n",
    "# The use of `knative-ingressgateway` is deprecated in Knative v0.3.x.\n",
    "# Use `istio-ingressgateway` instead, since `knative-ingressgateway`\n",
    "# will be removed in Knative v0.4.\n",
    "if kubectl get configmap config-istio -n knative-serving &> /dev/null; then\n",
    "  INGRESSGATEWAY=istio-ingressgateway\n",
    "fi\n",
    "\n",
    "echo $INGRESSGATEWAY"
   ]
  },
  {
   "cell_type": "code",
   "execution_count": 24,
   "metadata": {},
   "outputs": [
    {
     "name": "stdout",
     "output_type": "stream",
     "text": [
      "NAME                   TYPE       CLUSTER-IP      EXTERNAL-IP   PORT(S)                                                                                                                   AGE\n",
      "istio-ingressgateway   NodePort   10.106.108.67   <none>        80:30363/TCP,443:31974/TCP,31400:31133/TCP,15011:30053/TCP,8060:32644/TCP,853:30030/TCP,15030:30198/TCP,15031:31947/TCP   9m\n"
     ]
    }
   ],
   "source": [
    "kubectl get svc $INGRESSGATEWAY --namespace istio-system"
   ]
  },
  {
   "cell_type": "code",
   "execution_count": 25,
   "metadata": {},
   "outputs": [
    {
     "name": "stdout",
     "output_type": "stream",
     "text": [
      "10.0.2.15:30363\n"
     ]
    }
   ],
   "source": [
    "export IP_ADDRESS=$(kubectl get node  --output 'jsonpath={.items[0].status.addresses[0].address}'):$(kubectl get svc $INGRESSGATEWAY --namespace istio-system   --output 'jsonpath={.spec.ports[?(@.port==80)].nodePort}')\n",
    "echo $IP_ADDRESS"
   ]
  },
  {
   "cell_type": "code",
   "execution_count": 28,
   "metadata": {},
   "outputs": [
    {
     "name": "stdout",
     "output_type": "stream",
     "text": [
      "NAME            DOMAIN                              LATESTCREATED         LATESTREADY           READY   REASON\n",
      "helloworld-go   helloworld-go.default.example.com   helloworld-go-9gbvq   helloworld-go-9gbvq   True    \n",
      "helloworld-go.default.example.com\n"
     ]
    }
   ],
   "source": [
    "kubectl get service.serving.knative.dev/helloworld-go\n",
    "export HOST_URL=$(kubectl get route helloworld-go  --output jsonpath='{.status.domain}')\n",
    "echo $HOST_URL"
   ]
  },
  {
   "cell_type": "code",
   "execution_count": 32,
   "metadata": {
    "scrolled": true
   },
   "outputs": [
    {
     "name": "stdout",
     "output_type": "stream",
     "text": [
      "Hello Go Sample v1!\n",
      "curl -H \"Host: helloworld-go.default.example.com\" http://10.0.2.15:30363\n"
     ]
    }
   ],
   "source": [
    "curl -H \"Host: ${HOST_URL}\" http://${IP_ADDRESS}\n",
    "echo \"curl -H \\\"Host: ${HOST_URL}\\\" http://${IP_ADDRESS}\""
   ]
  }
 ],
 "metadata": {
  "kernelspec": {
   "display_name": "Bash",
   "language": "bash",
   "name": "bash"
  },
  "language_info": {
   "codemirror_mode": "shell",
   "file_extension": ".sh",
   "mimetype": "text/x-sh",
   "name": "bash"
  }
 },
 "nbformat": 4,
 "nbformat_minor": 2
}
